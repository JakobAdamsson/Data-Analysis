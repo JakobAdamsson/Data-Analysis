{
 "cells": [
  {
   "cell_type": "markdown",
   "metadata": {},
   "source": [
    "1) Does the number of hours affect your mental fatigue?  \n",
    "H1: Mental Fatigue Score will have an directily proportionall relationship with Resource Allocation.  \n",
    "H2: Mental Fatigue score will not have an directily proportionall relationship with Resource Allocation.\n",
    "\n",
    "2)Does your designation affect your mental fatigue?\n",
    "H1: Mental Fatigue Score will have an directily proportionall relationship with Designation.  \n",
    "H0: Mental Fatigue score will not have an directily proportionall relationship with Designation.\n"
   ]
  },
  {
   "cell_type": "code",
   "execution_count": 3,
   "metadata": {},
   "outputs": [],
   "source": [
    "%matplotlib inline\n",
    "# Importing pandas\n",
    "import pandas as pd\n",
    "#Importing Matplotlib\n",
    "import matplotlib.pyplot as mpl\n",
    "#Importing Numpy\n",
    "import numpy as np\n",
    "#Importing Scipy\n",
    "import scipy.stats as scp"
   ]
  },
  {
   "cell_type": "code",
   "execution_count": 4,
   "metadata": {},
   "outputs": [
    {
     "data": {
      "text/html": [
       "<div>\n",
       "<style scoped>\n",
       "    .dataframe tbody tr th:only-of-type {\n",
       "        vertical-align: middle;\n",
       "    }\n",
       "\n",
       "    .dataframe tbody tr th {\n",
       "        vertical-align: top;\n",
       "    }\n",
       "\n",
       "    .dataframe thead th {\n",
       "        text-align: right;\n",
       "    }\n",
       "</style>\n",
       "<table border=\"1\" class=\"dataframe\">\n",
       "  <thead>\n",
       "    <tr style=\"text-align: right;\">\n",
       "      <th></th>\n",
       "      <th>Employee ID</th>\n",
       "      <th>Date of Joining</th>\n",
       "      <th>Gender</th>\n",
       "      <th>Company Type</th>\n",
       "      <th>WFH Setup Available</th>\n",
       "      <th>Designation</th>\n",
       "      <th>Resource Allocation</th>\n",
       "      <th>Mental Fatigue Score</th>\n",
       "    </tr>\n",
       "  </thead>\n",
       "  <tbody>\n",
       "    <tr>\n",
       "      <th>0</th>\n",
       "      <td>fffe31003300390039003000</td>\n",
       "      <td>2008-12-10</td>\n",
       "      <td>Female</td>\n",
       "      <td>Service</td>\n",
       "      <td>No</td>\n",
       "      <td>2.0</td>\n",
       "      <td>5.0</td>\n",
       "      <td>7.7</td>\n",
       "    </tr>\n",
       "    <tr>\n",
       "      <th>1</th>\n",
       "      <td>fffe31003300310037003800</td>\n",
       "      <td>2008-08-14</td>\n",
       "      <td>Female</td>\n",
       "      <td>Product</td>\n",
       "      <td>Yes</td>\n",
       "      <td>1.0</td>\n",
       "      <td>2.0</td>\n",
       "      <td>5.2</td>\n",
       "    </tr>\n",
       "    <tr>\n",
       "      <th>2</th>\n",
       "      <td>fffe33003400380035003900</td>\n",
       "      <td>2008-11-13</td>\n",
       "      <td>Male</td>\n",
       "      <td>Product</td>\n",
       "      <td>Yes</td>\n",
       "      <td>1.0</td>\n",
       "      <td>3.0</td>\n",
       "      <td>5.9</td>\n",
       "    </tr>\n",
       "    <tr>\n",
       "      <th>3</th>\n",
       "      <td>fffe3100370039003200</td>\n",
       "      <td>2008-02-07</td>\n",
       "      <td>Female</td>\n",
       "      <td>Service</td>\n",
       "      <td>No</td>\n",
       "      <td>3.0</td>\n",
       "      <td>6.0</td>\n",
       "      <td>4.6</td>\n",
       "    </tr>\n",
       "    <tr>\n",
       "      <th>4</th>\n",
       "      <td>fffe32003600390036003700</td>\n",
       "      <td>2008-07-17</td>\n",
       "      <td>Female</td>\n",
       "      <td>Product</td>\n",
       "      <td>No</td>\n",
       "      <td>2.0</td>\n",
       "      <td>5.0</td>\n",
       "      <td>6.4</td>\n",
       "    </tr>\n",
       "    <tr>\n",
       "      <th>...</th>\n",
       "      <td>...</td>\n",
       "      <td>...</td>\n",
       "      <td>...</td>\n",
       "      <td>...</td>\n",
       "      <td>...</td>\n",
       "      <td>...</td>\n",
       "      <td>...</td>\n",
       "      <td>...</td>\n",
       "    </tr>\n",
       "    <tr>\n",
       "      <th>12245</th>\n",
       "      <td>fffe3900310034003700</td>\n",
       "      <td>2008-10-02</td>\n",
       "      <td>Female</td>\n",
       "      <td>Service</td>\n",
       "      <td>Yes</td>\n",
       "      <td>1.0</td>\n",
       "      <td>2.0</td>\n",
       "      <td>6.1</td>\n",
       "    </tr>\n",
       "    <tr>\n",
       "      <th>12246</th>\n",
       "      <td>fffe32003600330034003000</td>\n",
       "      <td>2008-03-31</td>\n",
       "      <td>Female</td>\n",
       "      <td>Product</td>\n",
       "      <td>Yes</td>\n",
       "      <td>2.0</td>\n",
       "      <td>4.0</td>\n",
       "      <td>5.9</td>\n",
       "    </tr>\n",
       "    <tr>\n",
       "      <th>12247</th>\n",
       "      <td>fffe31003800340039003000</td>\n",
       "      <td>2008-02-12</td>\n",
       "      <td>Male</td>\n",
       "      <td>Service</td>\n",
       "      <td>No</td>\n",
       "      <td>4.0</td>\n",
       "      <td>7.0</td>\n",
       "      <td>9.6</td>\n",
       "    </tr>\n",
       "    <tr>\n",
       "      <th>12248</th>\n",
       "      <td>fffe32003600380031003800</td>\n",
       "      <td>2008-02-06</td>\n",
       "      <td>Male</td>\n",
       "      <td>Service</td>\n",
       "      <td>No</td>\n",
       "      <td>3.0</td>\n",
       "      <td>6.0</td>\n",
       "      <td>6.7</td>\n",
       "    </tr>\n",
       "    <tr>\n",
       "      <th>12249</th>\n",
       "      <td>fffe32003100390037003800</td>\n",
       "      <td>2008-08-05</td>\n",
       "      <td>Female</td>\n",
       "      <td>Product</td>\n",
       "      <td>No</td>\n",
       "      <td>2.0</td>\n",
       "      <td>2.0</td>\n",
       "      <td>2.0</td>\n",
       "    </tr>\n",
       "  </tbody>\n",
       "</table>\n",
       "<p>12250 rows × 8 columns</p>\n",
       "</div>"
      ],
      "text/plain": [
       "                    Employee ID Date of Joining  Gender Company Type  \\\n",
       "0      fffe31003300390039003000      2008-12-10  Female      Service   \n",
       "1      fffe31003300310037003800      2008-08-14  Female      Product   \n",
       "2      fffe33003400380035003900      2008-11-13    Male      Product   \n",
       "3          fffe3100370039003200      2008-02-07  Female      Service   \n",
       "4      fffe32003600390036003700      2008-07-17  Female      Product   \n",
       "...                         ...             ...     ...          ...   \n",
       "12245      fffe3900310034003700      2008-10-02  Female      Service   \n",
       "12246  fffe32003600330034003000      2008-03-31  Female      Product   \n",
       "12247  fffe31003800340039003000      2008-02-12    Male      Service   \n",
       "12248  fffe32003600380031003800      2008-02-06    Male      Service   \n",
       "12249  fffe32003100390037003800      2008-08-05  Female      Product   \n",
       "\n",
       "      WFH Setup Available  Designation  Resource Allocation  \\\n",
       "0                      No          2.0                  5.0   \n",
       "1                     Yes          1.0                  2.0   \n",
       "2                     Yes          1.0                  3.0   \n",
       "3                      No          3.0                  6.0   \n",
       "4                      No          2.0                  5.0   \n",
       "...                   ...          ...                  ...   \n",
       "12245                 Yes          1.0                  2.0   \n",
       "12246                 Yes          2.0                  4.0   \n",
       "12247                  No          4.0                  7.0   \n",
       "12248                  No          3.0                  6.0   \n",
       "12249                  No          2.0                  2.0   \n",
       "\n",
       "       Mental Fatigue Score  \n",
       "0                       7.7  \n",
       "1                       5.2  \n",
       "2                       5.9  \n",
       "3                       4.6  \n",
       "4                       6.4  \n",
       "...                     ...  \n",
       "12245                   6.1  \n",
       "12246                   5.9  \n",
       "12247                   9.6  \n",
       "12248                   6.7  \n",
       "12249                   2.0  \n",
       "\n",
       "[12250 rows x 8 columns]"
      ]
     },
     "execution_count": 4,
     "metadata": {},
     "output_type": "execute_result"
    }
   ],
   "source": [
    "df = pd.read_csv(\"test.csv\", sep=\",\")\n",
    "df"
   ]
  },
  {
   "cell_type": "code",
   "execution_count": 12,
   "metadata": {
    "scrolled": true
   },
   "outputs": [
    {
     "name": "stdout",
     "output_type": "stream",
     "text": [
      "[0.7465242  2.39192669]\n"
     ]
    },
    {
     "data": {
      "text/plain": [
       "[<matplotlib.lines.Line2D at 0x7f67c8417760>]"
      ]
     },
     "execution_count": 12,
     "metadata": {},
     "output_type": "execute_result"
    },
    {
     "data": {
      "image/png": "[encoded data removed]",
      "text/plain": [
       "<Figure size 648x1080 with 1 Axes>"
      ]
     },
     "metadata": {
      "needs_background": "light"
     },
     "output_type": "display_data"
    }
   ],
   "source": [
    "y = df['Mental Fatigue Score']\n",
    "x = df['Resource Allocation']\n",
    "\n",
    "data_linreg = np.polyfit(x,y,1)\n",
    "\n",
    "xp = np.linspace(1,10, 156)\n",
    "lr = np.polyval(data_linreg, xp)\n",
    "print(data_linreg)\n",
    "fig = mpl.figure(figsize=(9,15))\n",
    "ax = fig.add_subplot()\n",
    "#ax.set_yticks(h.Score)\n",
    "ax.set_xlabel('Resource Allocation')\n",
    "ax.set_ylabel('Mental Fatigue Score')\n",
    "\n",
    "ax.set_xticks([1,2,3,4,5,6,7,8,9,10])\n",
    "ax.set_yticks([1,2,3,4,5,6,7,8,9,10])\n",
    "\n",
    "ax.scatter(x, y)\n",
    "ax.grid()\n",
    "ax.plot(xp,lr)"
   ]
  },
  {
   "cell_type": "code",
   "execution_count": 6,
   "metadata": {
    "scrolled": true
   },
   "outputs": [
    {
     "data": {
      "text/plain": [
       "(0.7978270822115985, 0.0)"
      ]
     },
     "execution_count": 6,
     "metadata": {},
     "output_type": "execute_result"
    }
   ],
   "source": [
    "r =scp.stats.pearsonr(df['Mental Fatigue Score'],df['Resource Allocation'])\n",
    "r"
   ]
  },
  {
   "cell_type": "markdown",
   "metadata": {},
   "source": [
    "Since this r-value is very close to 0.8 we can confirm h1 and reject h0.\n"
   ]
  },
  {
   "cell_type": "code",
   "execution_count": 11,
   "metadata": {},
   "outputs": [
    {
     "data": {
      "text/plain": [
       "[<matplotlib.lines.Line2D at 0x7f67c8498b50>]"
      ]
     },
     "execution_count": 11,
     "metadata": {},
     "output_type": "execute_result"
    },
    {
     "data": {
      "image/png": "[encoded data removed]",
      "text/plain": [
       "<Figure size 1080x360 with 1 Axes>"
      ]
     },
     "metadata": {
      "needs_background": "light"
     },
     "output_type": "display_data"
    }
   ],
   "source": [
    "y = df['Mental Fatigue Score']\n",
    "x = df['Designation']\n",
    "data_linreg = np.polyfit(x,y,2)\n",
    "\n",
    "xp = np.linspace(0,5, 156)\n",
    "lr = np.polyval(data_linreg, xp)\n",
    "fig = mpl.figure(figsize=(15,5))\n",
    "ax = fig.add_subplot()\n",
    "\n",
    "ax.set_xlabel('Resource Allocation')\n",
    "ax.set_ylabel('Mental Fatigue Score')\n",
    "\n",
    "ax.set_xticks([1,2,3,4,5])\n",
    "ax.set_yticks([1,2,3,4,5,6,7,8,9,10])\n",
    "ax.grid()\n",
    "ax.scatter(x, y)\n",
    "ax.plot(xp,lr)"
   ]
  },
  {
   "cell_type": "code",
   "execution_count": 8,
   "metadata": {
    "scrolled": true
   },
   "outputs": [
    {
     "data": {
      "text/plain": [
       "(0.688927931424651, 0.0)"
      ]
     },
     "execution_count": 8,
     "metadata": {},
     "output_type": "execute_result"
    }
   ],
   "source": [
    "r =scp.stats.pearsonr(df['Mental Fatigue Score'],df['Designation'])\n",
    "r"
   ]
  },
  {
   "cell_type": "markdown",
   "metadata": {},
   "source": [
    "Since this r-value is below  0.8 we cant confirm h1 and we cannot reject h0.\n",
    "\n"
   ]
  },
  {
   "cell_type": "markdown",
   "metadata": {},
   "source": [
    "### Does the number of hours affect your mental fatigue?  \n",
    "Our result strongly suggest that number of hours worked have a linear relation with mental \n",
    "\n",
    "### Does your designation affect your mental fatigue?\n",
    "Based on our investigon we cant say for sure that it will have a linear relation which means we cannot reject h0.\n"
   ]
  }
 ],
 "metadata": {
  "kernelspec": {
   "display_name": "Python 3",
   "language": "python",
   "name": "python3"
  },
  "language_info": {
   "codemirror_mode": {
    "name": "ipython",
    "version": 3
   },
   "file_extension": ".py",
   "mimetype": "text/x-python",
   "name": "python",
   "nbconvert_exporter": "python",
   "pygments_lexer": "ipython3",
   "version": "3.8.10"
  }
 },
 "nbformat": 4,
 "nbformat_minor": 5
}
